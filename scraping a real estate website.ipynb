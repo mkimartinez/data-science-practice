{
 "cells": [
  {
   "cell_type": "code",
   "execution_count": null,
   "metadata": {},
   "outputs": [
    {
     "name": "stdout",
     "output_type": "stream",
     "text": [
      "3\n"
     ]
    }
   ],
   "source": [
    "import requests\n",
    "import pandas as pd\n",
    "from bs4 import BeautifulSoup\n",
    "url = \"https://www.pythonhow.com/real-estate/rock-springs-wy/LCWYROCKSPRINGS/\"\n",
    "dt = requests.get(url)\n",
    "data = BeautifulSoup(dt.content,'html.parser')\n",
    "page_no = data.find_all(\"a\",{\"class\":\"Page\"})[-1].text\n",
    "print(page_no)\n",
    "\n",
    "l=[]\n",
    "base_url =\"https://www.pythonhow.com/real-estate/rock-springs-wy/LCWYROCKSPRINGS/#t=0&s=\"\n",
    "for page in range(0,int(page_no*10),10):\n",
    "#     print(base_url+str(page))\n",
    "    r = requests.get(base_url+str(page))\n",
    "    c =r.content\n",
    "    s = BeautifulSoup(c,\"html.parser\")\n",
    "    prop_all = s.find_all(\"div\",{'class':'propertyRow'})\n",
    "    for prop in prop_all:\n",
    "        d= {}\n",
    "        d['price']=prop.find(\"h4\",{\"class\":\"propPrice\"}).text.replace(\"\\n\",\"\")\n",
    "        d['description'] = prop.find(\"div\",{\"class\":\"propertyDescCollapse collapsed\"}).text\n",
    "        d['address'] = prop.find_all(\"span\",{\"class\":\"propAddressCollapse\"})[0].text\n",
    "        try:\n",
    "            d['number_of_beds'] = prop.find(\"span\",{\"class\":\"infoBed\"}).find(\"b\").text\n",
    "        except:\n",
    "            d['number_of_beds']=None\n",
    "        try:\n",
    "            d['area'] = prop.find(\"span\",{\"class\":\"infoSqFt\"}).find(\"b\").text\n",
    "    #         print(area)\n",
    "        except:\n",
    "            d['area']=None\n",
    "        try:\n",
    "            d['full_bath'] = prop.find(\"span\",{\"class\":\"infoValueFullBath\"}).find(\"b\").text\n",
    "        except:\n",
    "            d['full_bath'] =None\n",
    "        for column_group in prop.find_all(\"div\",{\"class\":\"columnGroup\"}):\n",
    "            for feature_group, feature_name in zip((column_group.find_all(\"span\",{\"class\":\"featureGroup\"})),(column_group.find_all(\"span\",{\"class\":\"featureName\"}))):\n",
    "                if \"Lot Size\" in feature_group.text:\n",
    "                    d['Lot Size'] =(feature_name.text)\n",
    "        l.append(d)\n",
    "        "
   ]
  },
  {
   "cell_type": "code",
   "execution_count": null,
   "metadata": {},
   "outputs": [],
   "source": [
    "len(l)"
   ]
  },
  {
   "cell_type": "code",
   "execution_count": null,
   "metadata": {},
   "outputs": [],
   "source": [
    "df = pd.DataFrame(l)"
   ]
  },
  {
   "cell_type": "code",
   "execution_count": null,
   "metadata": {},
   "outputs": [],
   "source": [
    "df.head()"
   ]
  },
  {
   "cell_type": "markdown",
   "metadata": {},
   "source": [
    "Save data to csv file"
   ]
  },
  {
   "cell_type": "code",
   "execution_count": null,
   "metadata": {},
   "outputs": [],
   "source": [
    "df.to_csv(\"real_estate.csv\")"
   ]
  },
  {
   "cell_type": "code",
   "execution_count": null,
   "metadata": {},
   "outputs": [],
   "source": []
  },
  {
   "cell_type": "code",
   "execution_count": null,
   "metadata": {},
   "outputs": [],
   "source": []
  }
 ],
 "metadata": {
  "kernelspec": {
   "display_name": "Python 3",
   "language": "python",
   "name": "python3"
  },
  "language_info": {
   "codemirror_mode": {
    "name": "ipython",
    "version": 3
   },
   "file_extension": ".py",
   "mimetype": "text/x-python",
   "name": "python",
   "nbconvert_exporter": "python",
   "pygments_lexer": "ipython3",
   "version": "3.6.6"
  }
 },
 "nbformat": 4,
 "nbformat_minor": 2
}
